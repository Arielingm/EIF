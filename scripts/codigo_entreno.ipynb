{
 "cells": [
  {
   "cell_type": "code",
   "execution_count": null,
   "metadata": {},
   "outputs": [],
   "source": [
    "pip install h2o\n"
   ]
  },
  {
   "cell_type": "code",
   "execution_count": null,
   "metadata": {},
   "outputs": [],
   "source": [
    "pip install optuna"
   ]
  },
  {
   "cell_type": "code",
   "execution_count": null,
   "metadata": {},
   "outputs": [],
   "source": [
    "import h2o\n",
    "from h2o.estimators import H2OExtendedIsolationForestEstimator\n",
    "import optuna\n",
    "# Inicializar H2O\n",
    "h2o.init()"
   ]
  },
  {
   "cell_type": "code",
   "execution_count": null,
   "metadata": {},
   "outputs": [],
   "source": [
    "# Cargar datos\n",
    "data = h2o.import_file('AllData/ProcesadoMatrizZ/DatosSanos75.csv')\n",
    "\n",
    "#eliminar kurtosis\n",
    "# Obtener el número de columnas en el H2OFrame\n",
    "#num_columns = data.ncol\n",
    "\n",
    "# Identificar las columnas que son múltiplos de 3\n",
    "#indices_a_eliminar = [i for i in range(num_columns) if (i + 1) % 3 == 0]\n",
    "\n",
    "# Convertir los índices a eliminar en un objeto H2OFrame\n",
    "#cols_to_drop = [data.columns[i] for i in indices_a_eliminar]\n",
    "\n",
    "# Eliminar las columnas identificadas\n",
    "#data = data.drop(cols_to_drop)\n",
    "data=data.drop(72,axis=1)#48-72"
   ]
  },
  {
   "cell_type": "code",
   "execution_count": null,
   "metadata": {},
   "outputs": [],
   "source": [
    "data_validar =  h2o.import_file('AllData/ProcesadoMatrizZ/DatosSanos10Validar.csv')\n",
    "\n",
    "#eliminar kurtosis\n",
    "#num_columns = data_validar.ncol\n",
    "\n",
    "# Identificar las columnas que son múltiplos de 3\n",
    "#indices_a_eliminar = [i for i in range(num_columns) if (i + 1) % 3 == 0]\n",
    "\n",
    "# Convertir los índices a eliminar en un objeto H2OFrame\n",
    "#cols_to_drop_f = [data_validar.columns[i] for i in indices_a_eliminar]\n",
    "\n",
    "# Eliminar las columnas identificadas\n",
    "#data_validar = data_validar.drop(cols_to_drop_f)\n",
    "data_validar=data_validar.drop(72,axis=1)#48-72\n"
   ]
  },
  {
   "cell_type": "code",
   "execution_count": null,
   "metadata": {},
   "outputs": [],
   "source": [
    "# Define an objective function to be maximized.\n",
    "\n",
    "def objective(trial):\n",
    "\n",
    "    #1627680000000\n",
    "    # # Inicializar H2O\n",
    "    #h2o.init()\n",
    "    # Cargar datos\n",
    "    #data = h2o.import_file('.\\Matrices\\Matriz_training_PdP_norm.csv') trial.suggest_int('sample_size', 512, 1024)/// trial.suggest_int('extension_level', 40, 71)\n",
    "    model = H2OExtendedIsolationForestEstimator(ntrees=trial.suggest_int('ntrees', 200, 500), seed=1627680000000000000,extension_level=trial.suggest_int('extension_level', 55, 65), sample_size=1024)\n",
    "    model.train(training_frame=data)\n",
    "    # Train Extended Isolation Forest\n",
    "    predictions_training = model.predict(data)\n",
    "    anomaly_score_training = predictions_training[\"anomaly_score\"]\n",
    "    corte1 = anomaly_score_training.max()\n",
    "    #data_fallos =  h2o.import_file('.\\Matrices\\Matriz_val_PdP_norm.csv')\n",
    "    predictions_val = model.predict(data_validar)\n",
    "    anomaly_score_val = predictions_val[\"anomaly_score\"]\n",
    "    corte2 = anomaly_score_val.max()\n",
    "    accuracy = max(corte1, corte2)\n",
    "    return accuracy\n",
    "\n",
    "# 3. Create a study object and optimize the objective function.\n",
    "study = optuna.create_study(direction='minimize')\n",
    "study.optimize(objective, n_trials=200)"
   ]
  },
  {
   "cell_type": "code",
   "execution_count": null,
   "metadata": {},
   "outputs": [],
   "source": [
    "from optuna.trial import TrialState\n",
    "pruned_trials = study.get_trials(deepcopy=False, states=[TrialState.PRUNED])\n",
    "complete_trials = study.get_trials(deepcopy=False, states=[TrialState.COMPLETE])\n",
    "\n",
    "print(\"Study statistics: \")\n",
    "print(\"  Number of finished trials: \", len(study.trials))\n",
    "print(\"  Number of pruned trials: \", len(pruned_trials))\n",
    "print(\"  Number of complete trials: \", len(complete_trials))\n",
    "\n",
    "print(\"Best trial:\")\n",
    "trial = study.best_trial\n",
    "\n",
    "print(\"  Value: \", trial.value)\n",
    "\n",
    "print(\"  Params: \")\n",
    "for key, value in trial.params.items():\n",
    "  print(\"    {}: {}\".format(key, value))"
   ]
  },
  {
   "cell_type": "code",
   "execution_count": null,
   "metadata": {},
   "outputs": [],
   "source": [
    "model"
   ]
  },
  {
   "cell_type": "code",
   "execution_count": null,
   "metadata": {},
   "outputs": [],
   "source": [
    "data_testeo =  h2o.import_file('AllData/ProcesadoMatrizZ/DatosFallo3.csv')\n",
    "\n",
    "#eliminar kurtosis\n",
    "num_columns = data_testeo.ncol\n",
    "\n",
    "# Identificar las columnas que son múltiplos de 3\n",
    "indices_a_eliminar = [i for i in range(num_columns) if (i + 1) % 3 == 0]\n",
    "\n",
    "# Convertir los índices a eliminar en un objeto H2OFrame\n",
    "cols_to_drop_f = [data_testeo.columns[i] for i in indices_a_eliminar]\n",
    "\n",
    "# Eliminar las columnas identificadas\n",
    "data_testeo = data_testeo.drop(cols_to_drop_f)\n",
    "data_testeo=data_testeo.drop(48,axis=1)\n",
    "# Realizar predicciones de testeo\n",
    "predictions_testeo = model.predict(data_testeo)\n",
    "predictions_testeo"
   ]
  },
  {
   "cell_type": "code",
   "execution_count": null,
   "metadata": {},
   "outputs": [],
   "source": [
    "# Contar cuántos valores de anomaly_score superan 0.65\n",
    "count_above_testeo = (predictions_testeo['anomaly_score'] > 0.57).sum()\n",
    "count_above_testeo"
   ]
  },
  {
   "cell_type": "code",
   "execution_count": null,
   "metadata": {},
   "outputs": [],
   "source": [
    "#NO USAR\n",
    "# Crear modelo\n",
    "#1627680000000000000\n",
    "#1.62768e+18\n",
    "model = H2OExtendedIsolationForestEstimator(ntrees=100, seed=1627680000000000000 ,extension_level=47, sample_size=1024)\n",
    "\n",
    "# Entrenar modelo\n",
    "model.train(training_frame=data)\n",
    "# Train Extended Isolation Forest\n",
    "#model.train(x = data.columns, training_frame = data)\n",
    "\n",
    "\n",
    "# Realizar predicciones\n",
    "predictions = model.predict(data)\n",
    "\n",
    "anomaly_score = predictions[\"anomaly_score\"]\n",
    "anomaly_score.max()\n",
    "\n",
    "\n",
    "# Contar cuántos valores de anomaly_score superan 0.6\n",
    "count_above_threshold = (predictions['anomaly_score'] > 0.65).sum()\n",
    "count_above_threshold\n"
   ]
  }
 ],
 "metadata": {
  "kernelspec": {
   "display_name": "base",
   "language": "python",
   "name": "python3"
  },
  "language_info": {
   "codemirror_mode": {
    "name": "ipython",
    "version": 3
   },
   "file_extension": ".py",
   "mimetype": "text/x-python",
   "name": "python",
   "nbconvert_exporter": "python",
   "pygments_lexer": "ipython3",
   "version": "3.9.13"
  },
  "orig_nbformat": 4
 },
 "nbformat": 4,
 "nbformat_minor": 2
}
